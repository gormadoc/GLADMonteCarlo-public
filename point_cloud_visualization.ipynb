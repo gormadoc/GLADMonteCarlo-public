{
 "cells": [
  {
   "cell_type": "code",
   "execution_count": 2,
   "metadata": {},
   "outputs": [
    {
     "name": "stdout",
     "output_type": "stream",
     "text": [
      "[Warning] Since Open3D 0.15, installing Open3D via conda is deprecated. Please re-install Open3D via: `pip install open3d -U`.\n",
      "Jupyter environment detected. Enabling Open3D WebVisualizer.\n",
      "[Open3D INFO] WebRTC GUI backend enabled.\n",
      "[Open3D INFO] WebRTCWindowSystem: HTTP handshake server disabled.\n"
     ]
    }
   ],
   "source": [
    "import numpy as np\n",
    "import pyvista as pv\n",
    "import open3d\n",
    "import modeling\n",
    "from modeling import *\n",
    "import scipy.ndimage\n",
    "import scipy.stats\n",
    "import copy\n",
    "from utils import *\n",
    "from matplotlib import pyplot as plt\n",
    "from matplotlib import cm\n",
    "#import tensorflow as tf\n",
    "\n",
    "import random"
   ]
  },
  {
   "cell_type": "code",
   "execution_count": 3,
   "metadata": {},
   "outputs": [],
   "source": [
    "silver = np.array([0,1,0])#[0.753, 0.753, 0.753])#{'color': [0.753, 0.753, 0.753], 'material': \n",
    "a_si = np.array([1,0,0])#[0.600, 0.460, 0.357])\n",
    "gold = np.array([0,.5,1])#[212/255, 175/255, 55/255])\n",
    "zr = np.array([1, .5, 0])\n",
    "ox = np.array([0, 1, 1])"
   ]
  },
  {
   "cell_type": "markdown",
   "metadata": {},
   "source": [
    "# Silicon + noble metal"
   ]
  },
  {
   "cell_type": "code",
   "execution_count": 115,
   "metadata": {},
   "outputs": [
    {
     "name": "stdout",
     "output_type": "stream",
     "text": [
      "[{'L': 768, 'theta': 85.5, 'phi': 180.0, 'H': 128, 'D': 5, 'turns': -0.3333333333333333, 'stepper resolution': 0, 'species': [1], 'weights': array([[1., 0.],\n",
      "       [0., 1.]]), 'repetition': 4194304, 'time': 4162.294365644455}]\n"
     ]
    }
   ],
   "source": [
    "filename = 'STF_Si_patterned_L768_x-0.3333333333333333_Th85.5_D5_N3029625_1661919009'\n",
    "#filename = 'SCTF_Si_Ag_L256_x1.0_Th85.5_D20_N589824_1658946745'\n",
    "\n",
    "grid, deposited, params = loadSparse('structures//' + filename + '.npz')\n",
    "print(params)\n",
    "m = np.max(grid, axis=0)\n",
    "\n",
    "grid_full = matrixFromSparse(grid)\n",
    "\n",
    "slice_point = 5\n",
    "\n",
    "grid_si = np.where(grid_full == 1, 1, 0)[slice_point:,:,:]\n",
    "grid_ag = np.where(grid_full == 2, 1, 0)[slice_point:,:,:]\n",
    "\n",
    "# Remove largest object (the walls)\n",
    "# regions, number_of_components = scipy.ndimage.label(grid_si, structure=np.ones([3,3,3]))\n",
    "# inv_regions = np.where(regions < 2, 0, 1)\n",
    "# grid_si = grid_si * inv_regions\n",
    "\n",
    "grid_si = np.flip(np.argwhere(grid_si == 1), axis=1) + [0,0,slice_point]#sparseFromMatrix(grid_si)\n",
    "grid_ag = np.flip(np.argwhere(grid_ag == 1), axis=1) + [0,0,slice_point]#sparseFromMatrix(grid_ag)"
   ]
  },
  {
   "cell_type": "code",
   "execution_count": 116,
   "metadata": {},
   "outputs": [
    {
     "name": "stdout",
     "output_type": "stream",
     "text": [
      "[[  1   0   5]\n",
      " [  2   0   5]\n",
      " [  3   0   5]\n",
      " ...\n",
      " [384 765  95]\n",
      " [384 766  95]\n",
      " [384 767  95]]\n"
     ]
    },
    {
     "data": {
      "text/plain": [
       "PointCloud with 0 points."
      ]
     },
     "execution_count": 116,
     "metadata": {},
     "output_type": "execute_result"
    }
   ],
   "source": [
    "print(grid_si)\n",
    "\n",
    "SiCloud = open3d.geometry.PointCloud()\n",
    "SiCloud.points = open3d.utility.Vector3dVector(grid_si)\n",
    "SiCloud.paint_uniform_color(a_si)\n",
    "\n",
    "AgCloud = open3d.geometry.PointCloud()\n",
    "AgCloud.points = open3d.utility.Vector3dVector(grid_ag)\n",
    "AgCloud.paint_uniform_color(a_si)"
   ]
  },
  {
   "cell_type": "code",
   "execution_count": 117,
   "metadata": {},
   "outputs": [],
   "source": [
    "m = np.max(grid_si, axis=0)\n",
    "pts = np.asarray(SiCloud.points)\n",
    "colors = np.asarray(SiCloud.colors)\n",
    "colors[:,:] = a_si\n",
    "colors = np.column_stack([0.70*colors[:,0] * pts[:,2]/m[2]+.15, 0.85*colors[:,1] * pts[:,2]/m[2]+.15, 0.85*colors[:,2] * pts[:,2]/m[2]+.15])\n",
    "SiCloud.colors = open3d.utility.Vector3dVector(colors)\n",
    "\n",
    "# m = np.max(grid_ag, axis=0)\n",
    "# n = np.min(grid_ag, axis=0)\n",
    "# pts = np.asarray(AgCloud.points)\n",
    "# colors = np.asarray(AgCloud.colors)\n",
    "# colors[:,:] = silver\n",
    "# colors = np.column_stack([0.9*colors[:,0] * (pts[:,2]-n[2])/(m[2]-n[2])+.1, 0.85*colors[:,1] * (pts[:,2]-n[2])/(m[2]-n[2])+.15, 0.8*colors[:,2] * (pts[:,2]-n[2])/(m[2]-n[2])+.2])\n",
    "# AgCloud.colors = open3d.utility.Vector3dVector(colors)\n",
    "\n",
    "open3d.visualization.draw_geometries([SiCloud, AgCloud], width=1080)"
   ]
  },
  {
   "cell_type": "markdown",
   "metadata": {},
   "source": [
    "# View only middle"
   ]
  },
  {
   "cell_type": "code",
   "execution_count": 158,
   "metadata": {},
   "outputs": [
    {
     "name": "stdout",
     "output_type": "stream",
     "text": [
      "[{'L': 768, 'theta': 85.5, 'phi': 0, 'H': 72, 'D': 10, 'turns': 0, 'species': [1], 'weights': array([[ 1.        ,  0.        ,  0.        ],\n",
      "       [ 0.        ,  1.        ,  0.        ],\n",
      "       [ 0.2       , -0.30000001,  3.        ]]), 'repetition': 8388608, 'time': 15205.85223698616}, {'L': 768, 'theta': 85.5, 'phi': 0, 'H': 96, 'D': 30, 'turns': 0, 'species': [2], 'weights': array([[ 1.        ,  0.        ,  0.        ],\n",
      "       [ 0.        ,  1.        ,  0.        ],\n",
      "       [ 0.2       , -0.30000001,  3.        ]]), 'repetition': 1048576, 'time': 3527.082565307617}]\n",
      "[   0  659  684  697  703  807  822  825  827  832  835  836  840  844\n",
      "  845  847  848  849  850  851  855  856  860  861  862  863  864  865\n",
      "  869  870  873  875  876  877  878  879  881  882  883  884  885  886\n",
      "  888  889  890  891  892  894  895  896  898  899  901  906  907  912\n",
      "  913  914  915  916  917  918  923  924  925  926  931  932  933  934\n",
      "  935  936  937  943  947  948  949  950  951  959  960  961  962  966\n",
      "  967  968  970  971  972  973  978  979  981  982  983  984  987  988\n",
      "  989  990  991  992  995  999 1000 1001 1002 1003 1004 1005 1006 1008\n",
      " 1009 1010 1011 1016 1018 1024 1028 1029 1033 1037 1038 1049 1050 1054\n",
      " 1058 1066 1068 1069 1075 1076 1077 1079 1080 1081 1084 1085 1088 1089\n",
      " 1090 1094 1095 1096 1101 1102 1103 1104 1107 1108 1114 1115 1116 1117\n",
      " 1118 1120 1121 1124 1125 1126 1127 1128 1131 1132 1135 1136 1137 1140\n",
      " 1141 1142 1143 1144 1146 1147 1152 1153 1154 1157 1158 1159 1162 1163\n",
      " 1164 1167 1177 1181 1183 1184 1188 1189 1190 1192 1193 1194 1198 1199\n",
      " 1202 1203 1204 1208 1209 1210 1211 1212 1213 1214 1215 1216 1217 1219\n",
      " 1222 1223 1229 1234 1235 1236 1238 1239 1245 1248 1249 1250 1251 1252\n",
      " 1254 1255 1256 1257 1258 1261 1262 1263 1267 1268 1269 1270 1272 1282\n",
      " 1283 1284 1285 1290 1291 1294 1295 1296 1300 1301 1302 1303 1304 1309\n",
      " 1310 1311 1312 1316 1317 1318 1319 1326 1327 1328 1329 1334 1338 1339\n",
      " 1340 1342 1343 1344 1345 1346 1347 1348 1349 1350 1353 1354 1355 1360\n",
      " 1361 1362 1363 1367 1368 1371 1372 1381 1382 1387 1388 1389 1396 1397\n",
      " 1398 1399 1400 1402 1403 1404 1407 1408 1413 1414 1415 1418 1421 1422\n",
      " 1425 1430 1434 1436 1437 1440 1441 1443 1444 1445 1446 1451 1452 1453\n",
      " 1455 1457 1458 1465 1471 1472 1473 1475 1482 1484 1485 1486 1488 1490\n",
      " 1491 1493 1494 1495 1496 1499 1500 1501 1506 1510 1511 1512 1513 1514\n",
      " 1515 1517 1521 1522 1525 1529 1530 1531 1532 1535 1536 1540 1541 1542\n",
      " 1543 1544 1545 1546 1548 1549 1550 1551 1552 1553 1554 1555 1556 1559\n",
      " 1565 1566 1574 1577 1581 1585 1588 1589 1590 1591 1594 1595 1597 1598\n",
      " 1604 1610 1615 1616 1618 1623 1624 1628 1629 1630 1631 1635 1636 1638\n",
      " 1641 1646 1650 1652 1653 1654 1656 1657 1662 1663 1664 1665 1666 1667\n",
      " 1668 1669 1670 1671 1672 1677 1678 1679 1680 1683 1684 1685 1686 1687\n",
      " 1691 1692 1693 1694 1696 1699 1700 1701 1706 1708 1709 1710 1713 1714\n",
      " 1715 1717 1718 1719 1720 1724 1729 1730 1731 1732 1737 1738 1739 1740\n",
      " 1741 1742 1746 1748 1749 1750 1757 1758 1759 1763 1764 1765 1766 1771\n",
      " 1772 1776 1780 1781 1782 1786 1787 1788 1789 1793 1796 1797 1798 1799\n",
      " 1801 1802 1804 1805 1808 1809 1810 1813 1814 1816 1817 1819 1820 1821\n",
      " 1822 1826 1827 1830 1831 1838 1839 1840 1844 1845 1850 1851 1852 1853\n",
      " 1854 1855 1860 1861 1862 1866 1867 1870 1876 1877 1878 1879 1884 1885\n",
      " 1891 1892 1900 1901 1905 1909 1911 1915 1919 1920 1921 1924 1930 1931\n",
      " 1934 1939 1945 1950 1951 1952 1953 1954 1957 1958 1959 1960 1961 1962\n",
      " 1963 1965 1966 1970 1971 1972 1973 1978 1979 1983 1984 1985 1986 1988\n",
      " 1989 1990 1991 1993 1994 1995 1998 2003 2004 2005 2006 2007 2014 2015\n",
      " 2017 2018 2019 2020 2025 2033 2034 2039 2041 2042 2046 2047 2048 2049\n",
      " 2050 2051 2052 2053 2056 2057 2058 2062 2063 2067 2075 2076 2077 2080\n",
      " 2081 2087 2088 2090 2091 2092 2094 2095 2096 2102 2103 2107 2108 2112\n",
      " 2113 2114 2115 2118 2119 2120 2123 2126 2127 2131 2132 2135 2137 2138\n",
      " 2139 2142 2143 2147 2151 2152 2155 2156 2157 2160 2161 2162 2163 2164\n",
      " 2170 2171 2174 2175 2179 2180 2181 2182 2183 2186 2187 2188 2189 2193\n",
      " 2194 2195 2196 2198 2199 2205 2208 2209 2211 2212 2213 2215 2219 2220\n",
      " 2221 2222 2225 2228 2229 2230 2233 2234 2235 2236 2237 2239 2240 2241\n",
      " 2242 2243 2244 2245 2249 2250 2251 2252 2253 2256 2257 2262 2263 2264\n",
      " 2265 2270 2271 2272 2274 2275 2277 2278 2279 2282 2283 2284 2285 2290\n",
      " 2294 2295 2299 2303 2304 2309 2310 2311 2312 2313 2314 2316 2317 2318\n",
      " 2319 2320 2325 2327 2329 2332 2333 2334 2336 2337 2341 2342 2343 2344\n",
      " 2345 2349 2350 2354 2355 2358 2365 2366 2367 2369 2371 2374 2375 2380\n",
      " 2381 2382 2384 2385 2386 2387 2389 2390 2391 2392 2393 2395 2400 2401\n",
      " 2402 2404 2405 2406 2407 2411 2412 2413 2414 2425 2429 2430 2431 2433\n",
      " 2440 2441 2442 2443]\n",
      "802\n"
     ]
    }
   ],
   "source": [
    "filename = 'STF_Si_Ag_L768_Th85.5_D30_N9437184_1659178176'\n",
    "\n",
    "grid, deposited, params = loadSparse('structures//' + filename + '.npz')\n",
    "print(params)\n",
    "m = np.max(grid, axis=0)\n",
    "\n",
    "grid_full = matrixFromSparse(grid)\n",
    "\n",
    "slice_point = 15\n",
    "\n",
    "grid_si = np.where(grid_full == 1, 1, 0)[slice_point:,:,:]\n",
    "grid_ag = np.where(grid_full == 2, 1, 0)[slice_point:,:,:]\n",
    "\n",
    "s = grid_full.shape\n",
    "regions, number_of_components = scipy.ndimage.label(np.where(grid_full[slice_point:, :, :] > 0, 1, 0))#, structure=np.ones((3,3,3)))\n",
    "center_structures = np.unique(regions[0, s[1]//4:s[1]*3//4, s[2]//4:s[2]*3//4])\n",
    "print(center_structures)\n",
    "\n",
    "listo = list(center_structures)\n",
    "print(len(listo))"
   ]
  },
  {
   "cell_type": "code",
   "execution_count": 145,
   "metadata": {},
   "outputs": [
    {
     "ename": "NameError",
     "evalue": "name 'ndimage' is not defined",
     "output_type": "error",
     "traceback": [
      "\u001b[1;31m---------------------------------------------------------------------------\u001b[0m",
      "\u001b[1;31mNameError\u001b[0m                                 Traceback (most recent call last)",
      "Input \u001b[1;32mIn [145]\u001b[0m, in \u001b[0;36m<cell line: 1>\u001b[1;34m()\u001b[0m\n\u001b[1;32m----> 1\u001b[0m sizes \u001b[38;5;241m=\u001b[39m \u001b[43mndimage\u001b[49m\u001b[38;5;241m.\u001b[39msum(np\u001b[38;5;241m.\u001b[39mwhere(grid_full \u001b[38;5;241m>\u001b[39m \u001b[38;5;241m0\u001b[39m, \u001b[38;5;241m1\u001b[39m, \u001b[38;5;241m0\u001b[39m), regions, \u001b[38;5;28mrange\u001b[39m(number_of_components\u001b[38;5;241m+\u001b[39m\u001b[38;5;241m1\u001b[39m))\n",
      "\u001b[1;31mNameError\u001b[0m: name 'ndimage' is not defined"
     ]
    }
   ],
   "source": [
    "sizes = scipy.ndimage.sum(np.where(grid_full > 0, 1, 0), regions, range(number_of_components+1))"
   ]
  },
  {
   "cell_type": "code",
   "execution_count": 159,
   "metadata": {},
   "outputs": [
    {
     "name": "stdout",
     "output_type": "stream",
     "text": [
      "[[350 155  15]\n",
      " [351 155  15]\n",
      " [353 155  15]\n",
      " ...\n",
      " [269 190  63]\n",
      " [272 190  63]\n",
      " [268 192  63]]\n",
      "[[282 155  47]\n",
      " [275 152  50]\n",
      " [275 153  50]\n",
      " ...\n",
      " [253 169  75]\n",
      " [251 170  75]\n",
      " [253 170  75]]\n",
      "39279\n"
     ]
    }
   ],
   "source": [
    "if 0 in listo:\n",
    "    listo.remove(0)\n",
    "grid_si_choice = np.zeros(grid_si.shape)\n",
    "grid_ag_choice = np.zeros(grid_ag.shape)\n",
    "\n",
    "upper = 100000\n",
    "lower = 10000\n",
    "    \n",
    "for i in range(len(listo)):\n",
    "    structure = listo.pop(0)#random.sample(listo, k=1)\n",
    "    choice = np.where(regions == structure, 1, 0)\n",
    "\n",
    "    '''for k in range(regions.shape[0]):\n",
    "        for j in range(regions.shape[1]):\n",
    "            for i in range(regions.shape[2]):\n",
    "                if regions[k,j,i] in center_structures:\n",
    "                    regions[k,j,i] = 1\n",
    "                else:\n",
    "                    regions[k,j,i] = 0'''\n",
    "\n",
    "    #regions = np.where(regions in center_structures, 1, 0)\n",
    "\n",
    "    grid_si_choice = grid_si * choice\n",
    "    grid_ag_choice = grid_ag * choice\n",
    "    \n",
    "    if np.sum(grid_si_choice + grid_ag_choice) > upper or np.sum(grid_si_choice + grid_ag_choice) < lower:\n",
    "        continue\n",
    "    else:\n",
    "        break\n",
    "\n",
    "grid_si_choice = np.flip(np.argwhere(grid_si_choice == 1), axis=1) + [0,0,slice_point]#sparseFromMatrix(grid_si)\n",
    "grid_ag_choice = np.flip(np.argwhere(grid_ag_choice == 1), axis=1) + [0,0,slice_point]#sparseFromMatrix(grid_ag)\n",
    "\n",
    "print(grid_si_choice)\n",
    "print(grid_ag_choice)\n",
    "\n",
    "print(grid_si_choice.shape[0] + grid_ag_choice.shape[0])"
   ]
  },
  {
   "cell_type": "code",
   "execution_count": 151,
   "metadata": {},
   "outputs": [
    {
     "name": "stdout",
     "output_type": "stream",
     "text": [
      "[]\n"
     ]
    }
   ],
   "source": [
    "print(listo)"
   ]
  },
  {
   "cell_type": "code",
   "execution_count": 160,
   "metadata": {},
   "outputs": [
    {
     "data": {
      "text/plain": [
       "PointCloud with 6842 points."
      ]
     },
     "execution_count": 160,
     "metadata": {},
     "output_type": "execute_result"
    }
   ],
   "source": [
    "SiCloud = open3d.geometry.PointCloud()\n",
    "SiCloud.points = open3d.utility.Vector3dVector(grid_si_choice)\n",
    "SiCloud.paint_uniform_color(a_si)\n",
    "\n",
    "AgCloud = open3d.geometry.PointCloud()\n",
    "AgCloud.points = open3d.utility.Vector3dVector(grid_ag_choice)\n",
    "AgCloud.paint_uniform_color(a_si)"
   ]
  },
  {
   "cell_type": "code",
   "execution_count": null,
   "metadata": {},
   "outputs": [],
   "source": [
    "m = np.max(grid_si_choice, axis=0)\n",
    "pts = np.asarray(SiCloud.points)\n",
    "colors = np.asarray(SiCloud.colors)\n",
    "colors[:,:] = a_si\n",
    "colors = np.column_stack([0.70*colors[:,0] * pts[:,2]/m[2]+.15, 0.85*colors[:,1] * pts[:,2]/m[2]+.15, 0.85*colors[:,2] * pts[:,2]/m[2]+.15])\n",
    "SiCloud.colors = open3d.utility.Vector3dVector(colors)\n",
    "\n",
    "m = np.max(grid_ag_choice, axis=0)\n",
    "n = np.min(grid_ag_choice, axis=0)\n",
    "pts = np.asarray(AgCloud.points)\n",
    "colors = np.asarray(AgCloud.colors)\n",
    "colors[:,:] = silver\n",
    "colors = np.column_stack([0.9*colors[:,0] * (pts[:,2]-n[2])/(m[2]-n[2])+.1, 0.85*colors[:,1] * (pts[:,2]-n[2])/(m[2]-n[2])+.15, 0.8*colors[:,2] * (pts[:,2]-n[2])/(m[2]-n[2])+.2])\n",
    "AgCloud.colors = open3d.utility.Vector3dVector(colors)\n",
    "\n",
    "open3d.visualization.draw_geometries([SiCloud, AgCloud], width=1080)"
   ]
  },
  {
   "cell_type": "markdown",
   "metadata": {},
   "source": [
    "# ZrO2"
   ]
  },
  {
   "cell_type": "code",
   "execution_count": 190,
   "metadata": {},
   "outputs": [
    {
     "name": "stdout",
     "output_type": "stream",
     "text": [
      "[{'L': 384, 'theta': 85.5, 'phi': 0, 'H': 112, 'D': 5, 'turns': 0, 'stepper resolution': 12800, 'species': [2, 3], 'weights': array([[1., 0., 0., 0.],\n",
      "       [0., 1., 0., 0.],\n",
      "       [0., 0., 1., 5.],\n",
      "       [0., 0., 5., 1.]]), 'repetition': 1048576, 'spread': [1, 1.832], 'time': 2229.751029253006}]\n"
     ]
    }
   ],
   "source": [
    "filename = 'STF_ZrO2_L384_Th85.5_D5_N1048570_1663882727'\n",
    "\n",
    "grid, deposited, params = loadSparse('structures//' + filename + '.npz')\n",
    "print(params)\n",
    "m = np.max(grid, axis=0)\n",
    "\n",
    "grid_full = matrixFromSparse(grid)\n",
    "\n",
    "slice_point = 1\n",
    "\n",
    "grid_zr = np.where(grid_full == 2, 1, 0)[slice_point:,:,:]\n",
    "grid_ox = np.where(grid_full == 3, 1, 0)[slice_point:,:,:]\n",
    "\n",
    "grid_zr = np.flip(np.argwhere(grid_zr == 1), axis=1) + [0,0,slice_point]#sparseFromMatrix(grid_si)\n",
    "grid_ox = np.flip(np.argwhere(grid_ox == 1), axis=1) + [0,0,slice_point]#sparseFromMatrix(grid_ag)"
   ]
  },
  {
   "cell_type": "code",
   "execution_count": 191,
   "metadata": {},
   "outputs": [
    {
     "data": {
      "text/plain": [
       "PointCloud with 524189 points."
      ]
     },
     "execution_count": 191,
     "metadata": {},
     "output_type": "execute_result"
    }
   ],
   "source": [
    "#print(grid[grid_si,:3].reshape(grid_si.shape[0], 3))\n",
    "\n",
    "ZrCloud = open3d.geometry.PointCloud()\n",
    "ZrCloud.points = open3d.utility.Vector3dVector(grid_zr)\n",
    "ZrCloud.paint_uniform_color(zr)\n",
    "\n",
    "OxCloud = open3d.geometry.PointCloud()\n",
    "OxCloud.points = open3d.utility.Vector3dVector(grid_ox)\n",
    "OxCloud.paint_uniform_color(ox)"
   ]
  },
  {
   "cell_type": "code",
   "execution_count": 192,
   "metadata": {},
   "outputs": [],
   "source": [
    "m = np.max(grid_zr, axis=0)\n",
    "pts = np.asarray(ZrCloud.points)\n",
    "colors = np.asarray(ZrCloud.colors)\n",
    "colors[:,:] = zr\n",
    "colors = np.column_stack([0.85*colors[:,0] * pts[:,2]/m[2]+.15, 0.85*colors[:,1] * pts[:,2]/m[2]+.15, 0.85*colors[:,2] * pts[:,2]/m[2]+.15])\n",
    "ZrCloud.colors = open3d.utility.Vector3dVector(colors)\n",
    "\n",
    "m = np.max(grid_ox, axis=0)\n",
    "n = np.min(grid_ox, axis=0)\n",
    "pts = np.asarray(OxCloud.points)\n",
    "colors = np.asarray(OxCloud.colors)\n",
    "colors[:,:] = ox\n",
    "colors = np.column_stack([0.9*colors[:,0] * (pts[:,2]-n[2])/(m[2]-n[2])+.1, 0.9*colors[:,1] * (pts[:,2]-n[2])/(m[2]-n[2])+.1, 0.9*colors[:,2] * (pts[:,2]-n[2])/(m[2]-n[2])+.1])\n",
    "OxCloud.colors = open3d.utility.Vector3dVector(colors)\n",
    "\n",
    "open3d.visualization.draw_geometries([ZrCloud, OxCloud], width=1080)"
   ]
  },
  {
   "cell_type": "markdown",
   "metadata": {},
   "source": [
    "# Continuous space simulations"
   ]
  },
  {
   "cell_type": "code",
   "execution_count": 45,
   "metadata": {},
   "outputs": [
    {
     "name": "stdout",
     "output_type": "stream",
     "text": [
      "Si radius: 0.15000000596046448\n",
      "Ag radius: 0\n",
      "(32768, 3)\n",
      "(0, 3)\n"
     ]
    },
    {
     "ename": "ValueError",
     "evalue": "zero-size array to reduction operation maximum which has no identity",
     "output_type": "error",
     "traceback": [
      "\u001b[1;31m---------------------------------------------------------------------------\u001b[0m",
      "\u001b[1;31mValueError\u001b[0m                                Traceback (most recent call last)",
      "Input \u001b[1;32mIn [45]\u001b[0m, in \u001b[0;36m<cell line: 22>\u001b[1;34m()\u001b[0m\n\u001b[0;32m     20\u001b[0m \u001b[38;5;28mprint\u001b[39m(atoms_si\u001b[38;5;241m.\u001b[39mshape)\n\u001b[0;32m     21\u001b[0m \u001b[38;5;28mprint\u001b[39m(atoms_ag\u001b[38;5;241m.\u001b[39mshape)\n\u001b[1;32m---> 22\u001b[0m \u001b[38;5;28mprint\u001b[39m(\u001b[43mnp\u001b[49m\u001b[38;5;241;43m.\u001b[39;49m\u001b[43mmax\u001b[49m\u001b[43m(\u001b[49m\u001b[43matoms_ag\u001b[49m\u001b[43m[\u001b[49m\u001b[43m:\u001b[49m\u001b[43m,\u001b[49m\u001b[38;5;241;43m2\u001b[39;49m\u001b[43m]\u001b[49m\u001b[43m)\u001b[49m)\n",
      "File \u001b[1;32m<__array_function__ internals>:180\u001b[0m, in \u001b[0;36mamax\u001b[1;34m(*args, **kwargs)\u001b[0m\n",
      "File \u001b[1;32mF:\\Programs\\Anaconda3_2020.11\\envs\\pyvista\\lib\\site-packages\\numpy\\core\\fromnumeric.py:2793\u001b[0m, in \u001b[0;36mamax\u001b[1;34m(a, axis, out, keepdims, initial, where)\u001b[0m\n\u001b[0;32m   2677\u001b[0m \u001b[38;5;129m@array_function_dispatch\u001b[39m(_amax_dispatcher)\n\u001b[0;32m   2678\u001b[0m \u001b[38;5;28;01mdef\u001b[39;00m \u001b[38;5;21mamax\u001b[39m(a, axis\u001b[38;5;241m=\u001b[39m\u001b[38;5;28;01mNone\u001b[39;00m, out\u001b[38;5;241m=\u001b[39m\u001b[38;5;28;01mNone\u001b[39;00m, keepdims\u001b[38;5;241m=\u001b[39mnp\u001b[38;5;241m.\u001b[39m_NoValue, initial\u001b[38;5;241m=\u001b[39mnp\u001b[38;5;241m.\u001b[39m_NoValue,\n\u001b[0;32m   2679\u001b[0m          where\u001b[38;5;241m=\u001b[39mnp\u001b[38;5;241m.\u001b[39m_NoValue):\n\u001b[0;32m   2680\u001b[0m     \u001b[38;5;124;03m\"\"\"\u001b[39;00m\n\u001b[0;32m   2681\u001b[0m \u001b[38;5;124;03m    Return the maximum of an array or maximum along an axis.\u001b[39;00m\n\u001b[0;32m   2682\u001b[0m \n\u001b[1;32m   (...)\u001b[0m\n\u001b[0;32m   2791\u001b[0m \u001b[38;5;124;03m    5\u001b[39;00m\n\u001b[0;32m   2792\u001b[0m \u001b[38;5;124;03m    \"\"\"\u001b[39;00m\n\u001b[1;32m-> 2793\u001b[0m     \u001b[38;5;28;01mreturn\u001b[39;00m \u001b[43m_wrapreduction\u001b[49m\u001b[43m(\u001b[49m\u001b[43ma\u001b[49m\u001b[43m,\u001b[49m\u001b[43m \u001b[49m\u001b[43mnp\u001b[49m\u001b[38;5;241;43m.\u001b[39;49m\u001b[43mmaximum\u001b[49m\u001b[43m,\u001b[49m\u001b[43m \u001b[49m\u001b[38;5;124;43m'\u001b[39;49m\u001b[38;5;124;43mmax\u001b[39;49m\u001b[38;5;124;43m'\u001b[39;49m\u001b[43m,\u001b[49m\u001b[43m \u001b[49m\u001b[43maxis\u001b[49m\u001b[43m,\u001b[49m\u001b[43m \u001b[49m\u001b[38;5;28;43;01mNone\u001b[39;49;00m\u001b[43m,\u001b[49m\u001b[43m \u001b[49m\u001b[43mout\u001b[49m\u001b[43m,\u001b[49m\n\u001b[0;32m   2794\u001b[0m \u001b[43m                          \u001b[49m\u001b[43mkeepdims\u001b[49m\u001b[38;5;241;43m=\u001b[39;49m\u001b[43mkeepdims\u001b[49m\u001b[43m,\u001b[49m\u001b[43m \u001b[49m\u001b[43minitial\u001b[49m\u001b[38;5;241;43m=\u001b[39;49m\u001b[43minitial\u001b[49m\u001b[43m,\u001b[49m\u001b[43m \u001b[49m\u001b[43mwhere\u001b[49m\u001b[38;5;241;43m=\u001b[39;49m\u001b[43mwhere\u001b[49m\u001b[43m)\u001b[49m\n",
      "File \u001b[1;32mF:\\Programs\\Anaconda3_2020.11\\envs\\pyvista\\lib\\site-packages\\numpy\\core\\fromnumeric.py:86\u001b[0m, in \u001b[0;36m_wrapreduction\u001b[1;34m(obj, ufunc, method, axis, dtype, out, **kwargs)\u001b[0m\n\u001b[0;32m     83\u001b[0m         \u001b[38;5;28;01melse\u001b[39;00m:\n\u001b[0;32m     84\u001b[0m             \u001b[38;5;28;01mreturn\u001b[39;00m reduction(axis\u001b[38;5;241m=\u001b[39maxis, out\u001b[38;5;241m=\u001b[39mout, \u001b[38;5;241m*\u001b[39m\u001b[38;5;241m*\u001b[39mpasskwargs)\n\u001b[1;32m---> 86\u001b[0m \u001b[38;5;28;01mreturn\u001b[39;00m ufunc\u001b[38;5;241m.\u001b[39mreduce(obj, axis, dtype, out, \u001b[38;5;241m*\u001b[39m\u001b[38;5;241m*\u001b[39mpasskwargs)\n",
      "\u001b[1;31mValueError\u001b[0m: zero-size array to reduction operation maximum which has no identity"
     ]
    }
   ],
   "source": [
    "filename = 'STF_Si_L32_Th85_D0.45_N32768_1673398759'\n",
    "\n",
    "atoms, deposited, params = loadContinuum(filename + '.npz')\n",
    "\n",
    "species = atoms[:,3]\n",
    "sp_si = np.squeeze(np.argwhere(species == 1))\n",
    "sp_ag = np.squeeze(np.argwhere(species == 2))\n",
    "\n",
    "atoms_si = atoms[sp_si,:3]\n",
    "atoms_ag = atoms[sp_ag,:3]\n",
    "\n",
    "si_rad = atoms[sp_si[0], 4]\n",
    "if sp_ag.shape[0] > 0:\n",
    "    ag_rad = atoms[sp_ag[0], 4]\n",
    "else:\n",
    "    ag_rad = 0\n",
    "    \n",
    "print(\"Si radius: {}\\nAg radius: {}\".format(si_rad, ag_rad))\n",
    "\n",
    "print(atoms_si.shape)\n",
    "print(atoms_ag.shape)\n",
    "print(np.max(atoms_ag[:,2]))"
   ]
  },
  {
   "cell_type": "code",
   "execution_count": 43,
   "metadata": {},
   "outputs": [
    {
     "data": {
      "text/plain": [
       "PointCloud with 0 points."
      ]
     },
     "execution_count": 43,
     "metadata": {},
     "output_type": "execute_result"
    }
   ],
   "source": [
    "SiCloud = open3d.geometry.PointCloud()\n",
    "SiCloud.points = open3d.utility.Vector3dVector(atoms_si)\n",
    "SiCloud.paint_uniform_color(a_si)\n",
    "\n",
    "AgCloud = open3d.geometry.PointCloud()\n",
    "AgCloud.points = open3d.utility.Vector3dVector(atoms_ag)\n",
    "AgCloud.paint_uniform_color(a_si)"
   ]
  },
  {
   "cell_type": "code",
   "execution_count": 15,
   "metadata": {},
   "outputs": [],
   "source": [
    "m = np.max(atoms_si, axis=0)\n",
    "pts = np.asarray(SiCloud.points)\n",
    "colors = np.asarray(SiCloud.colors)\n",
    "colors[:,:] = a_si\n",
    "colors = np.column_stack([0.70*colors[:,0] * pts[:,2]/m[2]+.15, 0.85*colors[:,1] * pts[:,2]/m[2]+.15, 0.85*colors[:,2] * pts[:,2]/m[2]+.15])\n",
    "SiCloud.colors = open3d.utility.Vector3dVector(colors)\n",
    "\n",
    "if atoms_ag.shape[0] > 0:\n",
    "    m = np.max(atoms_ag, axis=0)\n",
    "    n = np.min(atoms_ag, axis=0)\n",
    "    pts = np.asarray(AgCloud.points)\n",
    "    colors = np.asarray(AgCloud.colors)\n",
    "    colors[:,:] = gold\n",
    "    colors = np.column_stack([0.9*colors[:,0] * (pts[:,2]-n[2])/(m[2]-n[2])+.1, 0.85*colors[:,1] * (pts[:,2]-n[2])/(m[2]-n[2])+.15, 0.8*colors[:,2] * (pts[:,2]-n[2])/(m[2]-n[2])+.2])\n",
    "    AgCloud.colors = open3d.utility.Vector3dVector(colors)\n",
    "\n",
    "open3d.visualization.draw_geometries([SiCloud, AgCloud], width=1080)"
   ]
  },
  {
   "cell_type": "code",
   "execution_count": 46,
   "metadata": {},
   "outputs": [],
   "source": [
    "SiMesh = open3d.geometry.TriangleMesh()\n",
    "sphere = open3d.geometry.TriangleMesh.create_sphere(radius=si_rad, resolution=8)\n",
    "sphere.compute_vertex_normals()\n",
    "m = np.max(atoms_si, axis=0)\n",
    "for i in range(atoms_si.shape[0]):\n",
    "    mesh = sphere.translate(atoms_si[i,:], relative=False)\n",
    "    mesh.paint_uniform_color([0.70*a_si[0] * atoms_si[i,2]/m[2]+.3, 0.9*a_si[1] * atoms_si[i,2]/m[2]+.1, 0.9*a_si[2] * atoms_si[i,2]/m[2]+.1])\n",
    "    SiMesh += mesh\n",
    "#SiMesh.paint_uniform_color(a_si)\n",
    "\n",
    "\n",
    "AgMesh = open3d.geometry.TriangleMesh()\n",
    "if atoms_ag.shape[0] > 0:\n",
    "    sphere = open3d.geometry.TriangleMesh.create_sphere(radius=ag_rad, resolution=8)\n",
    "    sphere.compute_vertex_normals()\n",
    "    m = np.max(atoms_ag, axis=0)\n",
    "    n = np.min(atoms_ag, axis=0)\n",
    "    for i in range(atoms_ag.shape[0]):\n",
    "        mesh = sphere.translate(atoms_ag[i,:], relative=False)\n",
    "        mesh.paint_uniform_color([0.9*silver[0] * (atoms_ag[i,2]-n[2])/(m[2]-n[2])+.1, 0.85*silver[1] * (atoms_ag[i,2]-n[2])/(m[2]-n[2])+.15, 0.8*silver[2] * (atoms_ag[i,2]-n[2])/(m[2]-n[2])+.2])\n",
    "        AgMesh += mesh\n",
    "    #AgMesh.paint_uniform_color(silver)\n",
    "\n",
    "open3d.visualization.draw_geometries([SiMesh, AgMesh])"
   ]
  }
 ],
 "metadata": {
  "kernelspec": {
   "display_name": "pyvista",
   "language": "python",
   "name": "pyvista"
  },
  "language_info": {
   "codemirror_mode": {
    "name": "ipython",
    "version": 3
   },
   "file_extension": ".py",
   "mimetype": "text/x-python",
   "name": "python",
   "nbconvert_exporter": "python",
   "pygments_lexer": "ipython3",
   "version": "3.9.13"
  }
 },
 "nbformat": 4,
 "nbformat_minor": 4
}
