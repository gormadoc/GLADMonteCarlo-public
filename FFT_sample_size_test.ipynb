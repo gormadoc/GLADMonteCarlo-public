{
 "cells": [
  {
   "cell_type": "code",
   "execution_count": null,
   "metadata": {},
   "outputs": [],
   "source": [
    "import numpy as np\n",
    "from matplotlib import pyplot as plt"
   ]
  },
  {
   "cell_type": "code",
   "execution_count": null,
   "metadata": {},
   "outputs": [],
   "source": [
    "r1 = np.linspace(0, 124, 125)-125\n",
    "c1 = np.cos(r1*2*np.pi/125)\n",
    "\n",
    "f1 = np.fft.fft(c1)\n",
    "freq1 = np.fft.fftfreq(125)\n",
    "\n",
    "plt.plot(freq1, f1.real)\n",
    "print(np.max(f1.real))"
   ]
  },
  {
   "cell_type": "code",
   "execution_count": null,
   "metadata": {},
   "outputs": [],
   "source": [
    "r2 = np.linspace(0, 127, 128)-128\n",
    "c2 = np.cos(r2*2*np.pi/128)\n",
    "\n",
    "f2 = np.fft.fft(c2)\n",
    "freq2 = np.fft.fftfreq(128)\n",
    "\n",
    "plt.plot(freq2, f2.real)\n",
    "print(np.max(f2.real))"
   ]
  },
  {
   "cell_type": "code",
   "execution_count": null,
   "metadata": {},
   "outputs": [],
   "source": [
    "s = 5\n",
    "b = 1\n",
    "r1 = np.linspace(0, 124, 125)-62\n",
    "l1 = s/(r1**2  - 1j*b*r1 + s**2) + s/((r1-1)**2  - 1j*b*r1 + s**2)\n",
    "\n",
    "plt.plot(r1, l1.real, 'b*', r1, l1.imag, 'r^')\n",
    "\n",
    "f1 = np.fft.fft(l1)\n",
    "freq1 = np.fft.fftfreq(125)\n",
    "\n",
    "#plt.plot(freq1, f1.real)\n",
    "print(np.max(f1.real))"
   ]
  },
  {
   "cell_type": "code",
   "execution_count": null,
   "metadata": {},
   "outputs": [],
   "source": [
    "r2 = np.linspace(0, 127, 128)-64\n",
    "l2 = s/(r2**2 - 1j*b*r2 + s**2) + s/((r2-1)**2 - 1j*b*r2 + s**2)\n",
    "\n",
    "plt.plot(r2, l2.real, 'b*', r2, l2.imag, 'r^')\n",
    "\n",
    "f2 = np.fft.fft(l2)\n",
    "freq2 = np.fft.fftfreq(128)\n",
    "\n",
    "#plt.plot(freq2, f2.real)\n",
    "print(np.max(f2.real))"
   ]
  },
  {
   "cell_type": "code",
   "execution_count": null,
   "metadata": {},
   "outputs": [],
   "source": [
    "for f in [100, 125, 128, 1000]:\n",
    "    diff = np.fft.ifft(f1, n=f) - np.fft.ifft(f2, n=f)\n",
    "    print(np.max(diff))"
   ]
  }
 ],
 "metadata": {
  "kernelspec": {
   "display_name": "Python 3",
   "language": "python",
   "name": "python3"
  },
  "language_info": {
   "codemirror_mode": {
    "name": "ipython",
    "version": 3
   },
   "file_extension": ".py",
   "mimetype": "text/x-python",
   "name": "python",
   "nbconvert_exporter": "python",
   "pygments_lexer": "ipython3",
   "version": "3.6.10"
  }
 },
 "nbformat": 4,
 "nbformat_minor": 4
}
